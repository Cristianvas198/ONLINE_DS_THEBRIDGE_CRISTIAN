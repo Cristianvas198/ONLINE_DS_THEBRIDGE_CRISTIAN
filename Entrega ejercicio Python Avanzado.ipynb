{
  "cells": [
    {
      "cell_type": "markdown",
      "metadata": {
        "id": "RGg9iWpoRWxG"
      },
      "source": [
        "![ejercicios.png](attachment:ejercicios.png)"
      ]
    },
    {
      "cell_type": "markdown",
      "metadata": {
        "id": "AyOlWS2nRWxH"
      },
      "source": [
        "## PRACTICA OBLIGATORIA: COLECCIONES Y FUNCIONES"
      ]
    },
    {
      "cell_type": "markdown",
      "metadata": {
        "id": "6UOgb0KVRWxH"
      },
      "source": [
        "* La práctica obligatoria de esta unidad consiste varios ejercicios de programación libre a completar sobre Colecciones y Funciones. Descarga este notebook en tu ordenador y trabaja en local.  \n",
        "* Recuerda que debes subirla a tu repositorio personal antes de la sesión en vivo para que puntúe adecuadamente y puedas participar en dicha sesión.  \n",
        "* Recuerda también que no es necesario que esté perfecta, sólo es necesario que se vea el esfuerzo.\n",
        "* Esta práctica se resolverá en la sesión en vivo correspondiente y la solución se publicará en el repo del curso."
      ]
    },
    {
      "cell_type": "markdown",
      "metadata": {
        "id": "j3yu-tEjRWxH"
      },
      "source": [
        "### Contenidos"
      ]
    },
    {
      "cell_type": "markdown",
      "metadata": {
        "id": "kO-fLH39RWxH"
      },
      "source": [
        "## Ejercicio 1\n",
        "Eleva todos los elementos de la lista al cuadrado\n",
        "> ```ejer_2 = [1,2,3,4,5]```"
      ]
    },
    {
      "cell_type": "code",
      "execution_count": 5,
      "metadata": {
        "colab": {
          "base_uri": "https://localhost:8080/"
        },
        "id": "ks5l3yi7RWxH",
        "outputId": "e337f7e9-9dbf-46c7-dc4d-b25f9f7062eb"
      },
      "outputs": [
        {
          "name": "stdout",
          "output_type": "stream",
          "text": [
            "[1, 4, 9, 16, 25]\n"
          ]
        }
      ],
      "source": [
        "#Identificamos las listas\n",
        "\n",
        "ejer_2 = [1,2,3,4,5]\n",
        "cuadrado = []\n",
        "\n",
        "#Logica del calculo\n",
        "\n",
        "for numero in ejer_2:\n",
        "  cuadrado.append(numero**2)\n",
        "print(cuadrado)"
      ]
    },
    {
      "cell_type": "markdown",
      "metadata": {
        "id": "kI_Xr5oFRWxI"
      },
      "source": [
        "## Ejercicio 2\n",
        "Haz un programa que detecte todos los duplicados de un elemento en una lista:\n",
        "* Utiliza una variable duplicado para asignarle el valor del elemento del que queremos encontrar todos sus duplicados.\n",
        "* El programa debe devolver todos los índices de los elementos duplicados.\n",
        "* Aplícalo para encontrar los duplicados de \"un\", \"es\" y \"binario\" de:  \n",
        "\n",
        ">```ejer_3 = [\"Un\", \"árbol\", \"binario\", \"es\", \"una\", \"estructura\", \"de\", \"un\", \"tipo\", \"particular\", \"a\", \"veces\", \"no\", \"es\", \"ni\", \"binario\"]```\n"
      ]
    },
    {
      "cell_type": "code",
      "execution_count": 9,
      "metadata": {
        "colab": {
          "base_uri": "https://localhost:8080/"
        },
        "id": "cLY9WB7YRWxI",
        "outputId": "98ba96f8-13b0-46f0-cfcd-4b7a7f32bb9d"
      },
      "outputs": [
        {
          "name": "stdout",
          "output_type": "stream",
          "text": [
            "Índices de 'un': [0, 7]\n",
            "Índices de 'es': [3, 13]\n",
            "Índices de 'binario': [2, 15]\n"
          ]
        }
      ],
      "source": [
        "def encontrar_duplicados(lista, duplicado):\n",
        "    indices = [i for i, valor in enumerate(lista) if valor.lower() == duplicado.lower()]\n",
        "    return indices\n",
        "\n",
        "ejer_3 = [\"Un\", \"árbol\", \"binario\", \"es\", \"una\", \"estructura\", \"de\", \"un\", \"tipo\", \"particular\", \"a\", \"veces\", \"no\", \"es\", \"ni\", \"binario\"]\n",
        "\n",
        "# Encontrar duplicados de \"un\"\n",
        "indices_un = encontrar_duplicados(ejer_3, \"un\")\n",
        "print(f\"Índices de 'un': {indices_un}\")\n",
        "\n",
        "# Encontrar duplicados de \"es\"\n",
        "indices_es = encontrar_duplicados(ejer_3, \"es\")\n",
        "print(f\"Índices de 'es': {indices_es}\")\n",
        "\n",
        "# Encontrar duplicados de \"binario\"\n",
        "indices_binario = encontrar_duplicados(ejer_3, \"binario\")\n",
        "print(f\"Índices de 'binario': {indices_binario}\")\n"
      ]
    },
    {
      "cell_type": "markdown",
      "metadata": {
        "id": "3WrBd5QaRWxI"
      },
      "source": [
        "## Ejercicio 3\n",
        "1. ¿Cuántas veces se repite el 3 en la siguiente tupla?\n",
        "2. Crea una tupla nueva con los elementos desde la posicion 5 a la 10.\n",
        "3. ¿Cuántos elementos tiene la tupla `ejer_3`?\n",
        "> ```ejer_9 = (3, 20, 3, 47, 19, 3, 29, 45, 67, 78, 90, 3, 3, 5, 2, 4, 7, 9, 4, 2, 4, 3, 3, 4, 6, 7)```"
      ]
    },
    {
      "cell_type": "code",
      "execution_count": 15,
      "metadata": {
        "colab": {
          "base_uri": "https://localhost:8080/"
        },
        "id": "bkv_R5LYRWxI",
        "outputId": "1cc7769c-73bc-423b-df35-87a1c9393f3d"
      },
      "outputs": [
        {
          "name": "stdout",
          "output_type": "stream",
          "text": [
            "El número 3 se repite 7 veces.\n",
            "Los elementos de la nueva tupla son (3, 29, 45, 67, 78, 90)\n",
            "La tupla ejer_3 tiene 26 elementos\n"
          ]
        }
      ],
      "source": [
        "# Cuántas veces se repite el 3 en la siguiente tupla\n",
        "ejer_9 = (3, 20, 3, 47, 19, 3, 29, 45, 67, 78, 90, 3, 3, 5, 2, 4, 7, 9, 4, 2, 4, 3, 3, 4, 6, 7)\n",
        "cuenta_3 = ejer_9.count(3)\n",
        "print(f\"El número 3 se repite {cuenta_3} veces.\")\n",
        "\n",
        "# Crea una tupla nueva con los elementos desde la posicion 5 a la 10.\n",
        "tupla_nueva = ejer_9[5:11]\n",
        "print(\"Los elementos de la nueva tupla son\",tupla_nueva)\n",
        "\n",
        "#¿Cuántos elementos tiene la tupla ejer_3?\n",
        "print(\"La tupla ejer_3 tiene\",len(ejer_9), \"elementos\")\n"
      ]
    },
    {
      "cell_type": "markdown",
      "metadata": {
        "id": "6g8Y54AeRWxI"
      },
      "source": [
        "## Ejercicio 4\n",
        "Comprueba si el numero 60 esta en la tupla del ejercicio 3"
      ]
    },
    {
      "cell_type": "code",
      "execution_count": 18,
      "metadata": {
        "colab": {
          "base_uri": "https://localhost:8080/"
        },
        "id": "F8VTEZonRWxI",
        "outputId": "30bb8e86-fdac-46ec-9a97-2eeb6783f26d"
      },
      "outputs": [
        {
          "name": "stdout",
          "output_type": "stream",
          "text": [
            "El número 60 NO está en la tupla, del ejercicio 3.\n"
          ]
        }
      ],
      "source": [
        "ejer_9 = (3, 20, 3, 47, 19, 3, 29, 45, 67, 78, 90, 3, 3, 5, 2, 4, 7, 9, 4, 2, 4, 3, 3, 4, 6, 7)\n",
        "\n",
        "# Variable para saber si encontramos el número\n",
        "encontrado = False\n",
        "\n",
        "for numero in ejer_9:\n",
        "    if numero == 60:\n",
        "        encontrado = True\n",
        "        break\n",
        "\n",
        "if encontrado:  # Si lo encontramos\n",
        "    print(\"El número 60 está en la tupla, del ejercicio 3.\")\n",
        "else:  # Si no lo encontramos\n",
        "    print(\"El número 60 NO está en la tupla, del ejercicio 3.\")"
      ]
    },
    {
      "cell_type": "markdown",
      "metadata": {
        "id": "y0fg-ZA6RWxI"
      },
      "source": [
        "## Ejercicio 5\n",
        "1. Convierte la tupla del ejercicio 3 en una lista\n",
        "2. Convierte la tupla del ejercicio 3 en un set\n",
        "3. Convierte la tupla del ejercicio 3 en un diccionario. Usa también los indices"
      ]
    },
    {
      "cell_type": "code",
      "execution_count": 20,
      "metadata": {
        "colab": {
          "base_uri": "https://localhost:8080/"
        },
        "id": "_O5hXr01RWxI",
        "outputId": "b0cb9d34-0964-4421-9a5e-b2843c190a27"
      },
      "outputs": [
        {
          "name": "stdout",
          "output_type": "stream",
          "text": [
            "La tupla del ejercicio 3 es: (3, 20, 3, 47, 19, 3, 29, 45, 67, 78, 90, 3, 3, 5, 2, 4, 7, 9, 4, 2, 4, 3, 3, 4, 6, 7)\n",
            "Convertida en lista seria: [3, 20, 3, 47, 19, 3, 29, 45, 67, 78, 90, 3, 3, 5, 2, 4, 7, 9, 4, 2, 4, 3, 3, 4, 6, 7]\n",
            "Convertida en set seria: {2, 3, 67, 5, 4, 7, 6, 9, 45, 78, 47, 19, 20, 90, 29}\n",
            "Convertida en diccionario seria: {0: 3, 1: 20, 2: 3, 3: 47, 4: 19, 5: 3, 6: 29, 7: 45, 8: 67, 9: 78, 10: 90, 11: 3, 12: 3, 13: 5, 14: 2, 15: 4, 16: 7, 17: 9, 18: 4, 19: 2, 20: 4, 21: 3, 22: 3, 23: 4, 24: 6, 25: 7}\n"
          ]
        }
      ],
      "source": [
        "# Tupla del ejercio 3\n",
        "ejer_9 = (3, 20, 3, 47, 19, 3, 29, 45, 67, 78, 90, 3, 3, 5, 2, 4, 7, 9, 4, 2, 4, 3, 3, 4, 6, 7)\n",
        "print(\"La tupla del ejercicio 3 es:\", ejer_9)\n",
        "\n",
        "# Convertimos la tupla en una lista\n",
        "lista = list(ejer_9)\n",
        "print(\"Convertida en lista seria:\", lista)\n",
        "\n",
        "# Convertimos la tupla en un set\n",
        "set_1 = set(ejer_9)\n",
        "print(\"Convertida en set seria:\", set_1)\n",
        "\n",
        "# Convertimos la tupla en un diccionario\n",
        "diccionario = dict(enumerate(ejer_9))\n",
        "print(\"Convertida en diccionario seria:\", diccionario)"
      ]
    },
    {
      "cell_type": "markdown",
      "metadata": {
        "id": "eOdWWbxvRWxJ"
      },
      "source": [
        "## Ejercicio 6\n",
        "Multiplica todos los valores del diccionario\n",
        "> ```ejer_6 = {1: 11, 2: 22, 3: 33, 4: 44, 5: 55}```"
      ]
    },
    {
      "cell_type": "code",
      "execution_count": 25,
      "metadata": {
        "colab": {
          "base_uri": "https://localhost:8080/"
        },
        "id": "KcuByovKRWxJ",
        "outputId": "3ef60f32-b876-40be-a2fb-13b61590a3a4"
      },
      "outputs": [
        {
          "name": "stdout",
          "output_type": "stream",
          "text": [
            "El resultado de multiplicar todos los valores es: 19326120\n"
          ]
        }
      ],
      "source": [
        "ejer_6 = {1: 11, 2: 22, 3: 33, 4: 44, 5: 55}\n",
        "\n",
        "producto = 1  # Empezamos en 1 para que la multiplicación funcione correctamente\n",
        "\n",
        "for i in ejer_6.values():\n",
        "    producto *= i  # Multiplicamos el acumulador por cada valor\n",
        "\n",
        "print(\"El resultado de multiplicar todos los valores es:\", producto)"
      ]
    },
    {
      "cell_type": "markdown",
      "metadata": {
        "id": "W7TUSaKRRWxJ"
      },
      "source": [
        "## Ejercicio 7\n",
        "\n",
        "1. Crea un diccionario que describa un libro, con los siguientes campos o claves: \"titulo\",\"autor\",\"idioma original\",\"año de publicación\".\n",
        "2. Crea un a lista, llamada librería.\n",
        "3. Añade cuatro libros a tu elección a la librería."
      ]
    },
    {
      "cell_type": "code",
      "execution_count": 26,
      "metadata": {
        "colab": {
          "base_uri": "https://localhost:8080/"
        },
        "id": "d-IMRvxRRWxJ",
        "outputId": "08b7669f-5fec-46c6-d94c-a6163d61595c",
        "vscode": {
          "languageId": "plaintext"
        }
      },
      "outputs": [
        {
          "name": "stdout",
          "output_type": "stream",
          "text": [
            "Librería: [{'titulo': 'Cien años de soledad', 'autor': 'Gabriel García Márquez', 'idioma original': 'Español', 'año de publicación': 1967}, {'titulo': '1984', 'autor': 'George Orwell', 'idioma original': 'Inglés', 'año de publicación': 1949}, {'titulo': 'Don Quijote de la Mancha', 'autor': 'Miguel de Cervantes', 'idioma original': 'Español', 'año de publicación': 1605}, {'titulo': 'El Principito', 'autor': 'Antoine de Saint-Exupéry', 'idioma original': 'Francés', 'año de publicación': 1943}]\n"
          ]
        }
      ],
      "source": [
        "# Creamos cuatro libros como diccionarios\n",
        "libro1 = {\n",
        "    \"titulo\": \"Cien años de soledad\",\n",
        "    \"autor\": \"Gabriel García Márquez\",\n",
        "    \"idioma original\": \"Español\",\n",
        "    \"año de publicación\": 1967\n",
        "}\n",
        "\n",
        "libro2 = {\n",
        "    \"titulo\": \"1984\",\n",
        "    \"autor\": \"George Orwell\",\n",
        "    \"idioma original\": \"Inglés\",\n",
        "    \"año de publicación\": 1949\n",
        "}\n",
        "\n",
        "libro3 = {\n",
        "    \"titulo\": \"Don Quijote de la Mancha\",\n",
        "    \"autor\": \"Miguel de Cervantes\",\n",
        "    \"idioma original\": \"Español\",\n",
        "    \"año de publicación\": 1605\n",
        "}\n",
        "\n",
        "libro4 = {\n",
        "    \"titulo\": \"El Principito\",\n",
        "    \"autor\": \"Antoine de Saint-Exupéry\",\n",
        "    \"idioma original\": \"Francés\",\n",
        "    \"año de publicación\": 1943\n",
        "}\n",
        "\n",
        "# Creamos la lista librería y añadimos los libros\n",
        "libreria = [libro1, libro2, libro3, libro4]\n",
        "\n",
        "# Mostramos la librería completa\n",
        "print(\"Librería:\", libreria)\n"
      ]
    },
    {
      "cell_type": "markdown",
      "metadata": {
        "id": "glMoedjYRWxJ"
      },
      "source": [
        "## Ejercicio 8\n",
        "Modifica los valores del idioma de todos los libros del ejercicio anterior para que sea \"esperanto\"\n"
      ]
    },
    {
      "cell_type": "code",
      "execution_count": 27,
      "metadata": {
        "colab": {
          "base_uri": "https://localhost:8080/"
        },
        "id": "veNdC-uwRWxJ",
        "outputId": "5cb32cdd-5bad-471c-f1a2-3aa5b65e7c86"
      },
      "outputs": [
        {
          "name": "stdout",
          "output_type": "stream",
          "text": [
            "Librería con idioma cambiado: [{'titulo': 'Cien años de soledad', 'autor': 'Gabriel García Márquez', 'idioma original': 'Esperanto', 'año de publicación': 1967}, {'titulo': '1984', 'autor': 'George Orwell', 'idioma original': 'Esperanto', 'año de publicación': 1949}, {'titulo': 'Don Quijote de la Mancha', 'autor': 'Miguel de Cervantes', 'idioma original': 'Esperanto', 'año de publicación': 1605}, {'titulo': 'El Principito', 'autor': 'Antoine de Saint-Exupéry', 'idioma original': 'Esperanto', 'año de publicación': 1943}]\n"
          ]
        }
      ],
      "source": [
        "# Recorremos la lista y modificamos el idioma\n",
        "for libro in libreria:\n",
        "    libro[\"idioma original\"] = \"Esperanto\"\n",
        "\n",
        "# Mostramos la librería después de la modificación\n",
        "print(\"Librería con idioma cambiado:\", libreria)\n"
      ]
    },
    {
      "cell_type": "markdown",
      "metadata": {
        "id": "DRCJG04KRWxJ"
      },
      "source": [
        "## Ejercicio 9\n",
        "1. Escribe un programa que dada una variable titulo busque los libros que hay en la librería con ese título. Si no se encuentra debe devolver el mensaje `Ese no lo tengo, ¿mola?`\n",
        "2. Pruena que el programa con uno de tus libros y con otro que no contenga tu librería."
      ]
    },
    {
      "cell_type": "code",
      "execution_count": 28,
      "metadata": {
        "colab": {
          "base_uri": "https://localhost:8080/"
        },
        "id": "eWHdJi9BRWxJ",
        "outputId": "d7c1ecd5-ed06-410a-f71f-5dae3f2ef977"
      },
      "outputs": [
        {
          "name": "stdout",
          "output_type": "stream",
          "text": [
            "Introduce el título del libro que buscas: El sol \n",
            "Ese no lo tengo, ¿mola?\n"
          ]
        }
      ],
      "source": [
        "# Pedimos un título al usuario\n",
        "titulo_buscar = input(\"Introduce el título del libro que buscas: \")\n",
        "\n",
        "# Variable para verificar si lo encontramos\n",
        "encontrado = False\n",
        "\n",
        "# Recorremos la lista de libros para buscar el título\n",
        "for libro in libreria:\n",
        "    if libro[\"titulo\"].lower() == titulo_buscar.lower():  # Comparación sin importar mayúsculas/minúsculas\n",
        "        print(\"Libro encontrado:\", libro)\n",
        "        encontrado = True\n",
        "        break  # Salimos del bucle al encontrarlo\n",
        "\n",
        "# Si no se encontró el libro, mostramos el mensaje\n",
        "if not encontrado:\n",
        "    print(\"Ese no lo tengo, ¿mola?\")\n"
      ]
    },
    {
      "cell_type": "markdown",
      "metadata": {
        "id": "17YOpYuFRWxJ"
      },
      "source": [
        "## Ejercicio 10\n",
        "Convierte el programa del ejercicio 2 en una función al que se le pase el valor a buscar como un argumento posicional"
      ]
    },
    {
      "cell_type": "code",
      "execution_count": 29,
      "metadata": {
        "colab": {
          "base_uri": "https://localhost:8080/"
        },
        "id": "xbj0LgvnRWxJ",
        "outputId": "c1d414c2-ab68-41e2-f52f-dbbf6d6b24da"
      },
      "outputs": [
        {
          "name": "stdout",
          "output_type": "stream",
          "text": [
            "Índices de 'un': [0, 7]\n",
            "Índices de 'es': [3, 13]\n",
            "Índices de 'binario': [2, 15]\n"
          ]
        }
      ],
      "source": [
        "# Lista de palabras\n",
        "ejer_3 = [\"Un\", \"árbol\", \"binario\", \"es\", \"una\", \"estructura\", \"de\", \"un\",\n",
        "          \"tipo\", \"particular\", \"a\", \"veces\", \"no\", \"es\", \"ni\", \"binario\"]\n",
        "\n",
        "def encontrar_duplicados(lista, palabra):\n",
        "    \"\"\"\n",
        "    Encuentra los índices donde aparece la palabra en la lista.\n",
        "    \"\"\"\n",
        "    indices = [i for i, elemento in enumerate(lista) if elemento.lower() == palabra.lower()]\n",
        "    return indices\n",
        "\n",
        "# Prueba con las palabras pedidas\n",
        "for palabra in [\"un\", \"es\", \"binario\"]:\n",
        "    print(f\"Índices de '{palabra}': {encontrar_duplicados(ejer_3, palabra)}\")\n"
      ]
    },
    {
      "cell_type": "markdown",
      "metadata": {
        "id": "xZ-sWJxPRWxJ"
      },
      "source": [
        "## Ejercicio 11\n",
        "Convierte el programa del ejercicio 9 en una función al que se le pasen como argumentos la librería, posicional, y el título, argumento keyword con valor \"ninguno\", por defecto."
      ]
    },
    {
      "cell_type": "code",
      "execution_count": 30,
      "metadata": {
        "colab": {
          "base_uri": "https://localhost:8080/"
        },
        "id": "4-JrsMdNRWxK",
        "outputId": "297730db-0abf-447d-b23c-476d90b1c988"
      },
      "outputs": [
        {
          "name": "stdout",
          "output_type": "stream",
          "text": [
            "Libro encontrado: {'titulo': '1984', 'autor': 'George Orwell', 'idioma original': 'Esperanto', 'año de publicación': 1949}\n",
            "Ese no lo tengo, ¿mola?\n"
          ]
        }
      ],
      "source": [
        "def buscar_libro(libreria, titulo=\"ninguno\"):\n",
        "    \"\"\"\n",
        "    Busca un libro en la librería por su título.\n",
        "    \"\"\"\n",
        "    for libro in libreria:\n",
        "        if libro[\"titulo\"].lower() == titulo.lower():\n",
        "            return f\"Libro encontrado: {libro}\"\n",
        "\n",
        "    return \"Ese no lo tengo, ¿mola?\"\n",
        "\n",
        "# Prueba con un libro que sí está y otro que no\n",
        "print(buscar_libro(libreria, \"1984\"))\n",
        "print(buscar_libro(libreria, \"Harry Potter\"))\n"
      ]
    },
    {
      "cell_type": "markdown",
      "metadata": {
        "id": "FtJir95QRWxK"
      },
      "source": [
        "## Ejercicio 12\n",
        "Solicitar al usuario que ingrese su dirección email. Imprimir un mensaje indicando si la dirección es válida o no, valiéndose de una función para decidirlo. Una dirección se considerará válida si contiene el símbolo \"@\"."
      ]
    },
    {
      "cell_type": "code",
      "execution_count": 31,
      "metadata": {
        "colab": {
          "base_uri": "https://localhost:8080/"
        },
        "id": "sk852IZ8RWxK",
        "outputId": "c5c950a1-f301-41de-8292-8f259ae02298"
      },
      "outputs": [
        {
          "name": "stdout",
          "output_type": "stream",
          "text": [
            "Introduce tu email: cristian@hotmail.com\n",
            "La dirección de email es válida.\n"
          ]
        }
      ],
      "source": [
        "def validar_email(email):\n",
        "    \"\"\"\n",
        "    Verifica si un email es válido (contiene '@').\n",
        "    \"\"\"\n",
        "    if \"@\" in email:\n",
        "        return \"La dirección de email es válida.\"\n",
        "    else:\n",
        "        return \"La dirección de email NO es válida.\"\n",
        "\n",
        "# Pedimos al usuario su email\n",
        "email_usuario = input(\"Introduce tu email: \")\n",
        "print(validar_email(email_usuario))\n"
      ]
    },
    {
      "cell_type": "markdown",
      "metadata": {
        "id": "Kw1MWBwBRWxK"
      },
      "source": [
        "## Ejercicio 13\n",
        "Escribe una función que compruebe si un DNI es válido, devolviendo `True` en caso afirmativo.  \n",
        "En primer lugar, el DNI debe tener entre 7 y 8 dígitos numéricos.  \n",
        "Para saber si la letra del DNI es correcta puedes utilizar el siguiente fragmento de código:\n",
        ">```Python\n",
        ">DNI= 55555555\n",
        ">palabra='TRWAGMYFPDXBNJZSQVHLCKE'\n",
        ">print('La letra del DNI es: ', palabra[DNI%23])\n",
        ">````\n"
      ]
    },
    {
      "cell_type": "code",
      "execution_count": 32,
      "metadata": {
        "colab": {
          "base_uri": "https://localhost:8080/"
        },
        "id": "F5Z9rSHqRWxK",
        "outputId": "cbe35f67-a193-44f4-cdf4-3b7adf21d697"
      },
      "outputs": [
        {
          "name": "stdout",
          "output_type": "stream",
          "text": [
            "Introduce tu DNI (solo números): 55555555\n",
            "DNI válido. La letra correspondiente es: K\n"
          ]
        }
      ],
      "source": [
        "def validar_dni(dni):\n",
        "    \"\"\"\n",
        "    Verifica si el DNI tiene entre 7 y 8 dígitos y calcula su letra.\n",
        "    \"\"\"\n",
        "    if not dni.isdigit() or not (7 <= len(dni) <= 8):\n",
        "        return \"DNI no válido. Debe tener 7 u 8 dígitos numéricos.\"\n",
        "\n",
        "    palabra = 'TRWAGMYFPDXBNJZSQVHLCKE'\n",
        "    letra = palabra[int(dni) % 23]\n",
        "\n",
        "    return f\"DNI válido. La letra correspondiente es: {letra}\"\n",
        "\n",
        "# Pedimos el DNI al usuario\n",
        "dni_usuario = input(\"Introduce tu DNI (solo números): \")\n",
        "print(validar_dni(dni_usuario))\n"
      ]
    }
  ],
  "metadata": {
    "colab": {
      "provenance": []
    },
    "kernelspec": {
      "display_name": "Python 3",
      "name": "python3"
    },
    "language_info": {
      "name": "python"
    },
    "orig_nbformat": 4
  },
  "nbformat": 4,
  "nbformat_minor": 0
}
