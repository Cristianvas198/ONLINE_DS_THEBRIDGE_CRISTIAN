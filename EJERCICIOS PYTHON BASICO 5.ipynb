{
  "cells": [
    {
      "cell_type": "markdown",
      "metadata": {
        "id": "A9eDZvZaNPxs"
      },
      "source": [
        "![imagen](./img/ejercicios.png)"
      ]
    },
    {
      "cell_type": "markdown",
      "metadata": {
        "id": "59zPhBxXNPxs"
      },
      "source": [
        "## PRACTICA OBLIGATORIA: PYTHON"
      ]
    },
    {
      "cell_type": "markdown",
      "metadata": {
        "id": "mv2kb1GMNPxs"
      },
      "source": [
        "* La práctica obligatoria de esta unidad consiste en dos ejercicios de programación libre a completar.   \n",
        "* Recuerda que debes subirla a tu repositorio personal antes de la sesión en vivo para que puntúe adecuadamente.  \n",
        "* Recuerda también que no es necesario que esté perfecta, sólo es necesario que se vea el esfuerzo.\n",
        "* Esta práctica se resolverá en la sesión en vivo correspondiente y la solución se publicará en el repo del curso."
      ]
    },
    {
      "cell_type": "markdown",
      "metadata": {
        "id": "Kl9JzST2NPxt"
      },
      "source": [
        "![ejercicio.png](./img/ejercicio.png)\n",
        "## PARTE I\n",
        "\n",
        "En este ejercicio debes simular un chatbot al que le haremos pedidos de pizzas.\n",
        "\n",
        "1. El chatbot tiene que saludar con un: \"Buenas tardes, bienvenido al servicio de pedido online, el precio de nuestra pizzas es de 8,95 para la familiar o de 9,90 para la mediana ¿Cuántas pizzas  familiares desea?\"\n",
        "2. El ususario tiene que introducir un número de pizzas en una variable llamada 'pizz_familiar'\n",
        "3. El chatbot debe responder: \"Estupendo, ¿cuántas pizzas medianas desea?\" y guardar el número de pizzas medianas en otra variable 'pizz_mediana'\n",
        "4. Además debe responder del chatbot: \"Estupendo, se están preparando 'pizz' pizzas familiares y 'pizz_mediana' pizzas medianas. Digame su dirección\"\n",
        "5. El ususario tiene que introducir una direccion en formato String en otra variable llamada 'direcc'\n",
        "6. El programa debe calcular el monto total\n",
        "7. Respuesta final del chatbot: \"Le mandaremos las '(número total de pizzas)' pizzas a la dirección 'direcc'. Serán <precio total a pagar en euros>. Muchas gracias por su pedido.\"\n",
        "         \n"
      ]
    },
    {
      "cell_type": "code",
      "execution_count": null,
      "metadata": {
        "colab": {
          "base_uri": "https://localhost:8080/"
        },
        "id": "qkKibyt-NPxt",
        "outputId": "ce3d0f93-fd9a-473f-88f2-42b11b869dca"
      },
      "outputs": [
        {
          "name": "stdout",
          "output_type": "stream",
          "text": [
            "Buenas tardes, bienvenido al servicio de pedido online, el precio de nuestra pizzas es de 8,95 para la familiar o de 9,90 para la mediana ¿Cuántas pizzas familiares desea?\n",
            "1\n",
            "Estupendo, ¿cuántas pizzas medianas desea?\n",
            "0\n",
            "Estupendo, se están preparando 1 pizzas familiares y 0 pizzas medianas. Digame su dirección\n",
            "Calle Madrid\n",
            "Le mandaremos las 1 pizzas a la dirección Calle Madrid . Serán 8.95 euros. Muchas gracias por su pedido.\n"
          ]
        }
      ],
      "source": [
        "#Saludo del chatbot\n",
        "print(\"Buenas tardes, bienvenido al servicio de pedido online, el precio de nuestra pizzas es de 8,95 para la familiar o de 9,90 para la mediana ¿Cuántas pizzas familiares desea?\")\n",
        "\n",
        "#Numero de pizzas familiares\n",
        "pizz_familiar = int(input())\n",
        "#Numero de pizzas medianas\n",
        "print(\"Estupendo, ¿cuántas pizzas medianas desea?\")\n",
        "pizz_mediana = int(input())\n",
        "\n",
        "#Confirmacion de cantidades y direccion\n",
        "print(\"Estupendo, se están preparando\", pizz_familiar, \"pizzas familiares y\", pizz_mediana, \"pizzas medianas. Digame su dirección\")\n",
        "direcc = input()\n",
        "\n",
        "#Calculo del total a pagar\n",
        "precio_total = pizz_familiar * 8.95 + pizz_mediana * 9.9\n",
        "\n",
        "#Confirmacion del pedido y precio\n",
        "print(\"Le mandaremos las\", pizz_familiar + pizz_mediana, \"pizzas a la dirección\", direcc, \". Serán\", precio_total, \"euros. Muchas gracias por su pedido.\")\n"
      ]
    },
    {
      "cell_type": "markdown",
      "metadata": {
        "id": "f0oqoGDGNPxt"
      },
      "source": [
        "![ejercicio.png](./img/ejercicio.png)\n",
        "## Parte II\n",
        "\n",
        "Crea un programa que realice las siguientes acciones:\n",
        "\n",
        "1. Solicite al usuario que introduzca 3 números enteros separados por comas (por ejemplo: 1,2,3).\n",
        "2. Convierta esa entrada en una lista de números enteros.\n",
        "3. Utilizando funciones built-in, determine el número máximo, el número mínimo y la suma total de los números introducidos.\n",
        "4. Determine la verdad o falsedad de la siguiente afirmación: \"El número máximo menos el número mínimo es igual a la suma total dividida por 5\".\n",
        "5. Muestre los resultados utilizando print."
      ]
    },
    {
      "cell_type": "code",
      "execution_count": 4,
      "metadata": {
        "colab": {
          "base_uri": "https://localhost:8080/"
        },
        "id": "rAlpWiQ9NPxt",
        "outputId": "c850056b-7694-4a95-e21b-e206fbfaeb8c"
      },
      "outputs": [
        {
          "name": "stdout",
          "output_type": "stream",
          "text": [
            "Introduce 3 números enteros separados por comas (por ejemplo: 1,2,3): 1,7,8\n",
            "Números introducidos: [1, 7, 8]\n",
            "Número máximo: 8\n",
            "Número mínimo: 1\n",
            "Suma total: 16\n",
            "¿El número máximo menos el número mínimo es igual a la suma total dividida por 5? False\n"
          ]
        }
      ],
      "source": [
        "#Solicitar al usuario que introduzca 3 números enteros separados por comas\n",
        "entrada = input(\"Introduce 3 números enteros separados por comas (por ejemplo: 1,2,3): \")\n",
        "\n",
        "#Convertir la entrada en una lista de números enteros\n",
        "numeros = list(map(int, entrada.split(',')))\n",
        "\n",
        "#Calcular el número máximo, el número mínimo y la suma total\n",
        "maximo = max(numeros)\n",
        "minimo = min(numeros)\n",
        "suma_total = sum(numeros)\n",
        "\n",
        "#Determinar la verdad o falsedad de la afirmación\n",
        "afirmacion = (maximo - minimo) == (suma_total / 5)\n",
        "\n",
        "#Resultados\n",
        "print(f\"Números introducidos: {numeros}\")\n",
        "print(f\"Número máximo: {maximo}\")\n",
        "print(f\"Número mínimo: {minimo}\")\n",
        "print(f\"Suma total: {suma_total}\")\n",
        "print(f\"¿El número máximo menos el número mínimo es igual a la suma total dividida por 5? {afirmacion}\")\n",
        "\n",
        "\n",
        "\n"
      ]
    }
  ],
  "metadata": {
    "colab": {
      "provenance": []
    },
    "kernelspec": {
      "display_name": "Curso_Online_DATA",
      "language": "python",
      "name": "python3"
    },
    "language_info": {
      "codemirror_mode": {
        "name": "ipython",
        "version": 3
      },
      "file_extension": ".py",
      "mimetype": "text/x-python",
      "name": "python",
      "nbconvert_exporter": "python",
      "pygments_lexer": "ipython3",
      "version": "3.11.5"
    },
    "orig_nbformat": 4
  },
  "nbformat": 4,
  "nbformat_minor": 0
}
