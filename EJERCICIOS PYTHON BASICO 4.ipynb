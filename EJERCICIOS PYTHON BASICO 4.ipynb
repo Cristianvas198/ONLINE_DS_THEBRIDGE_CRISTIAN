{
  "cells": [
    {
      "cell_type": "markdown",
      "metadata": {
        "id": "7YbAO7H92yZK"
      },
      "source": [
        "![imagen](./img/ejercicios.png)"
      ]
    },
    {
      "cell_type": "markdown",
      "metadata": {
        "id": "BzPjnbSa2yZK"
      },
      "source": [
        "## EJERCICIOS PYTHON BASICO 4:\n",
        "## Funciones, métodos, listas"
      ]
    },
    {
      "cell_type": "markdown",
      "metadata": {
        "id": "CVGYTof12yZL"
      },
      "source": [
        "Completa los siguiente ejercicios, la solución completa a los mismos se publicarán en el repo del curso a lo largo del sprint. En algunos ejercicios se muestra la solución final, para que puedas comprobar que lo has hecho bien, pero lo importante es el código que generes. ¡Vaaamos, a ello...!"
      ]
    },
    {
      "cell_type": "markdown",
      "metadata": {
        "id": "vee56yaK2yZM"
      },
      "source": [
        "![ejercicio.png](./img/ejercicio.png)\n",
        "\n",
        "## Ejercicio 1\n",
        "Para este ejercicio vamos a poner en práctica [las funciones built in](https://docs.python.org/3/library/functions.html).\n",
        "\n",
        "1. Calcula el máximo de la lista: [4, 6, 8, -1]\n",
        "2. Suma todos los elementos de la lista anterior\n",
        "3. Redondea este float a 3 dígitos decimales: 63.451256965\n",
        "4. Valor absoluto de: -74"
      ]
    },
    {
      "cell_type": "code",
      "execution_count": null,
      "metadata": {
        "colab": {
          "base_uri": "https://localhost:8080/"
        },
        "id": "3hcS1H4f2yZO",
        "outputId": "5ea14839-a919-42fc-8e26-fb4a085d1a27"
      },
      "outputs": [
        {
          "name": "stdout",
          "output_type": "stream",
          "text": [
            "8\n",
            "17\n",
            "63.451\n",
            "74\n"
          ]
        }
      ],
      "source": [
        "lista = [4, 6, 8, -1]\n",
        "\n",
        "#Calcula el máximo de la lista: [4, 6, 8, -1]\n",
        "print (max(lista))\n",
        "\n",
        "#Suma todos los elementos de la lista anterior\n",
        "print (sum(lista))\n",
        "\n",
        "#Redondea este float a 3 dígitos decimales: 63.451256965\n",
        "print (round(63.451256965, 3))\n",
        "\n",
        "#Valor absoluto de: -74\n",
        "print (abs(-74))\n"
      ]
    },
    {
      "cell_type": "markdown",
      "metadata": {
        "id": "kTBBFCn72yZP"
      },
      "source": [
        "![ejercicio.png](./img/ejercicio.png)\n",
        "\n",
        "## Ejercicio 2\n",
        "Para el siguiente string se pide imprimir por pantalla los siguientes casos\n",
        "\n",
        "    \"En un lugar de la Mancha, de cuyo nombre no quiero acordarme.\"\n",
        "\n",
        "1. Pásalo todo a mayúsculas\n",
        "2. Pásalo todo a minúsculas\n",
        "3. Solo la primera letra de cada palabra en mayúscula, el resto en minúscula\n",
        "4. Crea una lista dividiéndolo por sus espacios\n",
        "5. Sustituye las comas `,` por puntos y comas `;`\n",
        "6. Elimina las `a` minúsculas"
      ]
    },
    {
      "cell_type": "code",
      "execution_count": null,
      "metadata": {
        "colab": {
          "base_uri": "https://localhost:8080/"
        },
        "id": "un8TYhzX2yZS",
        "outputId": "81a5d407-1a1f-4fe6-eee3-cfd9e8215923"
      },
      "outputs": [
        {
          "name": "stdout",
          "output_type": "stream",
          "text": [
            "EN UN LUGAR DE LA MANCHA, DE CUYO NOMBRE NO QUIERO ACORDARME.\n",
            "en un lugar de la mancha, de cuyo nombre no quiero acordarme.\n",
            "En Un Lugar De La Mancha, De Cuyo Nombre No Quiero Acordarme.\n",
            "['En', 'un', 'lugar', 'de', 'la', 'Mancha,', 'de', 'cuyo', 'nombre', 'no', 'quiero', 'acordarme.']\n",
            "En un lugar de la Mancha; de cuyo nombre no quiero acordarme.\n",
            "En un lugr de l Mnch, de cuyo nombre no quiero cordrme.\n"
          ]
        }
      ],
      "source": [
        "texto = \"En un lugar de la Mancha, de cuyo nombre no quiero acordarme.\"\n",
        "#Pásalo todo a mayúsculas\n",
        "print (texto.upper())\n",
        "\n",
        "#Pásalo todo a minúsculas\n",
        "print (texto.lower())\n",
        "\n",
        "#Solo la primera letra de cada palabra en mayúscula, el resto en minúscula\n",
        "print (texto.title())\n",
        "\n",
        "#Crea una lista dividiéndolo por sus espacios\n",
        "print (texto.split())\n",
        "\n",
        "#Sustituye las comas , por puntos y comas ;\n",
        "print (texto.replace(\",\", \";\"))\n",
        "\n",
        "#Elimina las a minúsculas\n",
        "print (texto.replace(\"a\", \"\"))"
      ]
    },
    {
      "cell_type": "markdown",
      "metadata": {
        "id": "eBzs_V_m2yZU"
      },
      "source": [
        "![ejercicio.png](./img/ejercicio.png)\n",
        "\n",
        "## Ejercicio 3\n",
        "1. Crea una lista con 3 elementos numéricos\n",
        "2. Añade un cuarto elemento\n",
        "3. Calcula la suma de todos\n",
        "4. Elimina el segundo elemento de la lista\n",
        "5. Añade otro elemento en la posicion 3 de la lista\n",
        "6. Crea otra lista con 4 elementos y concaténala a la que ya tenías.\n",
        "7. Ordena la lista de menor a mayor.\n",
        "8. BONUS: Ordena la lista de mayor a menor.  \n",
        "(*PISTA: Para hacer 8, tendrás que buscar en la información del método...*)  \n",
        "  \n",
        "  \n",
        "NOTA: Pinta por pantalla el resultado de cada paso."
      ]
    },
    {
      "cell_type": "code",
      "execution_count": null,
      "metadata": {
        "colab": {
          "base_uri": "https://localhost:8080/"
        },
        "id": "N2Aj651s2yZW",
        "outputId": "69bea372-f896-4a4e-b190-2c6dd3644b99"
      },
      "outputs": [
        {
          "name": "stdout",
          "output_type": "stream",
          "text": [
            "[1, 7, 9]\n",
            "[1, 7, 9, 3]\n",
            "20\n",
            "[1, 9, 3]\n",
            "[1, 9, 5, 3]\n",
            "[1, 9, 5, 3, 2, 4, 6, 8]\n",
            "[1, 3, 5, 9]\n",
            "[9, 5, 3, 1]\n"
          ]
        }
      ],
      "source": [
        "#Crea una lista con 3 elementos numéricos\n",
        "numeros = [1, 7, 9]\n",
        "print (numeros)\n",
        "\n",
        "#Añade un cuarto elemento\n",
        "numeros.append(3)\n",
        "print(numeros)\n",
        "\n",
        "#Calcula la suma de todos\n",
        "total = sum(numeros)\n",
        "print (total)\n",
        "\n",
        "#Elimina el segundo elemento de la lista\n",
        "numeros.pop(1)\n",
        "print (numeros)\n",
        "\n",
        "#Añade otro elemento en la posicion 3 de la lista\n",
        "numeros.insert(2, 5)\n",
        "print (numeros)\n",
        "\n",
        "#Crea otra lista con 4 elementos y concaténala a la que ya tenías.\n",
        "numeros2 = [2, 4, 6, 8]\n",
        "print (numeros + numeros2)\n",
        "\n",
        "#Ordena la lista de menor a mayor.\n",
        "numeros.sort()\n",
        "print (numeros)\n",
        "\n",
        "#Ordena la lista de mayor a menor.numero = [10, 9, 8]\n",
        "numeros.sort(reverse=True)\n",
        "print (numeros)\n"
      ]
    }
  ],
  "metadata": {
    "colab": {
      "provenance": [],
      "toc_visible": true
    },
    "kernelspec": {
      "display_name": "Curso_Online_DATA",
      "language": "python",
      "name": "python3"
    },
    "language_info": {
      "codemirror_mode": {
        "name": "ipython",
        "version": 3
      },
      "file_extension": ".py",
      "mimetype": "text/x-python",
      "name": "python",
      "nbconvert_exporter": "python",
      "pygments_lexer": "ipython3",
      "version": "3.11.5"
    },
    "orig_nbformat": 4
  },
  "nbformat": 4,
  "nbformat_minor": 0
}
