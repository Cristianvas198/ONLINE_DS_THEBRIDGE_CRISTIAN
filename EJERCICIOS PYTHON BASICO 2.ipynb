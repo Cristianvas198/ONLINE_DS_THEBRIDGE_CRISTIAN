{
  "cells": [
    {
      "cell_type": "markdown",
      "metadata": {
        "id": "GB2K42EgK9q5"
      },
      "source": [
        "![TheBridge_logo_RGB_color.jpg](attachment:TheBridge_logo_RGB_color.jpg)"
      ]
    },
    {
      "cell_type": "markdown",
      "metadata": {
        "id": "GnwVlO37K9q6"
      },
      "source": [
        "![imagen](./img/ejercicios.png)"
      ]
    },
    {
      "cell_type": "markdown",
      "metadata": {
        "id": "_9pTa0PXK9q6"
      },
      "source": [
        "## EJERCICIOS PYTHON BASICO 2:\n",
        "## Tipos y conversión de tipos"
      ]
    },
    {
      "cell_type": "markdown",
      "metadata": {
        "id": "tYmV-veoK9q6"
      },
      "source": [
        "Completa los siguiente ejercicios, la solución a los mismos se publicarán en el repo del curso a lo largo del sprint"
      ]
    },
    {
      "cell_type": "markdown",
      "metadata": {
        "id": "YAdFbIOXK9q7"
      },
      "source": [
        "![ejercicio.png](./img/ejercicio.png)\n",
        "\n",
        "## Ejercicio 1\n",
        "\n",
        "1. Crea dos variables numericas: un `int` y un `float`\n",
        "2. Comprueba sus tipos\n",
        "3. Sumalas en otra nueva\n",
        "4. ¿De qué tipo es la nueva variable?\n",
        "5. Elimina las dos primeras variables creadas"
      ]
    },
    {
      "cell_type": "code",
      "execution_count": null,
      "metadata": {
        "id": "8QZmuLOsK9q7",
        "colab": {
          "base_uri": "https://localhost:8080/"
        },
        "outputId": "435ff2c4-3357-47bd-905a-0a89a043cb42"
      },
      "outputs": [
        {
          "output_type": "stream",
          "name": "stdout",
          "text": [
            "<class 'int'>\n",
            "<class 'float'>\n",
            "15.14\n",
            "<class 'float'>\n"
          ]
        }
      ],
      "source": [
        "#Variables int y float\n",
        "numero_entero = 12\n",
        "numero_decimal = 3.14\n",
        "\n",
        "#Verificacion de tipos\n",
        "print(type(numero_entero))\n",
        "print(type(numero_decimal))\n",
        "\n",
        "#Suma de las dos variables creadas\n",
        "numeros = numero_entero + numero_decimal\n",
        "print (numeros)\n",
        "\n",
        "#Tipo de la nueva variable creada con la suma de las primeras dos\n",
        "print(type(numeros))\n",
        "\n",
        "#Elimina las dos primeras variables\n",
        "del numero_entero\n",
        "del numero_decimal\n"
      ]
    },
    {
      "cell_type": "markdown",
      "metadata": {
        "id": "f5xfpkpQK9q7"
      },
      "source": [
        "![ejercicio.png](./img/ejercicio.png)\n",
        "\n",
        "## Ejercicio 2\n",
        "Escribe un programa para pasar de grados a radianes. Hay que usar `input`. Recuerda que la conversión se realiza mediante\n",
        "\n",
        "radianes = grados*(pi/180)"
      ]
    },
    {
      "cell_type": "code",
      "execution_count": 8,
      "metadata": {
        "id": "V50TUQMzK9q7",
        "colab": {
          "base_uri": "https://localhost:8080/"
        },
        "outputId": "7ff1784c-4158-4f7b-b595-bc39c100b915"
      },
      "outputs": [
        {
          "output_type": "stream",
          "name": "stdout",
          "text": [
            "Ingrese los grados90\n",
            "El resultado de conversion de 90.0 grados, es 1.570796 radianes\n"
          ]
        }
      ],
      "source": [
        "#Definimos valor de pi\n",
        "pi = 3.141592\n",
        "\n",
        "#Definimos grados\n",
        "grados = float(input(\"Ingrese los grados a convertir \"))\n",
        "\n",
        "#Formulamos la conversion con la informacion ingresada\n",
        "radianes = grados * pi/180\n",
        "\n",
        "print(\"El resultado de conversion de\", grados, \"grados, es\", radianes, \"radianes\")"
      ]
    },
    {
      "cell_type": "markdown",
      "metadata": {
        "id": "zX3-p58CK9q7"
      },
      "source": [
        "![ejercicio.png](./img/ejercicio.png)\n",
        "\n",
        "## Ejercicio 3\n",
        "Escribe un programa que calcule el area de un paralelogramo (base x altura). También con `input`"
      ]
    },
    {
      "cell_type": "code",
      "execution_count": 15,
      "metadata": {
        "id": "s2QfNiBAK9q7",
        "colab": {
          "base_uri": "https://localhost:8080/"
        },
        "outputId": "bcd77e7a-5103-4fbc-fc7c-345a8a758fa2"
      },
      "outputs": [
        {
          "output_type": "stream",
          "name": "stdout",
          "text": [
            "Ingrese la base del paralelogramo: 50\n",
            "Ingrese la altura del paralelogramo: 90\n",
            "El área del paralelogramo es de 4500.0\n"
          ]
        }
      ],
      "source": [
        "# Recopilacion de datos para el calculo\n",
        "base = float(input(\"Ingrese la base del paralelogramo: \"))\n",
        "altura = float(input(\"Ingrese la altura del paralelogramo: \"))\n",
        "\n",
        "#Formula\n",
        "area = base * altura\n",
        "\n",
        "print(\"El área del paralelogramo es de\", area)\n"
      ]
    },
    {
      "cell_type": "markdown",
      "metadata": {
        "id": "-6TBo_HvK9q8"
      },
      "source": [
        "![ejercicio.png](./img/ejercicio.png)\n",
        "\n",
        "## Ejercicio 4\n",
        "Escribe un programa que calcule el area de un paralelogramo (base x altura). También con `input`. En este caso debe ser capaz de admitir valores reales, con decimales, para base y altura en español. (PISTA: Recuerda que tendrás que hacer uso del método replace)"
      ]
    },
    {
      "cell_type": "code",
      "execution_count": null,
      "metadata": {
        "id": "uzUIa1JqK9q8"
      },
      "outputs": [],
      "source": [
        "# Recopilacion de datos para el calculo\n",
        "base = float(input(\"Ingrese la base del paralelogramo: \").replace(\",\", \".\")) #Con el replace evitamos el error a la hora de introducir los datos con comas\n",
        "altura = float(input(\"Ingrese la altura del paralelogramo: \").replace(\",\", \".\"))\n",
        "\n",
        "#Formula base X altura\n",
        "area = base * altura\n",
        "\n",
        "print(\"El área del paralelogramo es de\", area)"
      ]
    },
    {
      "cell_type": "markdown",
      "metadata": {
        "id": "5zKugi5iK9q8"
      },
      "source": [
        "![ejercicio.png](./img/ejercicio.png)\n",
        "\n",
        "## Ejercicio 5\n",
        "Complete el siguiente código para solicitar al usuario su nombre y su edad. Luego, calcule en qué año nació el usuario y muestre el resultado."
      ]
    },
    {
      "cell_type": "code",
      "execution_count": 16,
      "metadata": {
        "id": "LISfTnRkK9q8",
        "colab": {
          "base_uri": "https://localhost:8080/"
        },
        "outputId": "8468cf92-d2d3-4f17-8438-a35ec6b89297"
      },
      "outputs": [
        {
          "output_type": "stream",
          "name": "stdout",
          "text": [
            "¿Cuál es tu nombre? cristian\n",
            "¿Cuál es tu edad? 26\n",
            "cristian, naciste en el año 1999.\n"
          ]
        }
      ],
      "source": [
        "nombre = input(\"¿Cuál es tu nombre? \")\n",
        "edad = int(input(\"¿Cuál es tu edad? \"))\n",
        "año_actual = 2025  # Puedes cambiarlo según el año en curso\n",
        "año_nacimiento = año_actual - edad\n",
        "\n",
        "print(f\"{nombre}, naciste en el año {año_nacimiento}.\")\n"
      ]
    }
  ],
  "metadata": {
    "kernelspec": {
      "display_name": "Curso_Online_DATA",
      "language": "python",
      "name": "python3"
    },
    "language_info": {
      "codemirror_mode": {
        "name": "ipython",
        "version": 3
      },
      "file_extension": ".py",
      "mimetype": "text/x-python",
      "name": "python",
      "nbconvert_exporter": "python",
      "pygments_lexer": "ipython3",
      "version": "3.11.5"
    },
    "orig_nbformat": 4,
    "colab": {
      "provenance": []
    }
  },
  "nbformat": 4,
  "nbformat_minor": 0
}