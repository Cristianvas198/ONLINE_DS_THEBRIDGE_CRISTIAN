{
  "cells": [
    {
      "cell_type": "markdown",
      "metadata": {
        "id": "bfwuxCLo2x7K"
      },
      "source": [
        "![imagen](./img/ejercicios.png)"
      ]
    },
    {
      "cell_type": "markdown",
      "metadata": {
        "id": "j3zstDIn2x7L"
      },
      "source": [
        "## EJERCICIOS PYTHON BASICO 3:\n",
        "## Operaciones matemáticas, comparación y booleanas"
      ]
    },
    {
      "cell_type": "markdown",
      "metadata": {
        "id": "mDw_xFOf2x7M"
      },
      "source": [
        "Completa los siguiente ejercicios, la solución completa a los mismos se publicarán en el repo del curso a lo largo del sprint. En algunos ejercicios se muestra la solución final, para que puedas comprobar que lo has hecho bien, pero lo importante es el código que generes. ¡Vaaamos, a ello...!"
      ]
    },
    {
      "cell_type": "markdown",
      "metadata": {
        "id": "IvQ63_4D2x7O"
      },
      "source": [
        "![ejercicio.png](./img/ejercicio.png)\n",
        "\n",
        "\n",
        "## Ejercicio 1\n",
        "Tenemos las siguientes variables:\n",
        "\n",
        "```Python\n",
        "A = 4\n",
        "B = \"Text\"\n",
        "C = 4.1\n",
        "```\n",
        "\n",
        "Comprueba:\n",
        "1. Si A y B son equivalentes\n",
        "2. Si A y C NO son equivalentes\n",
        "3. Si A es mayor que C\n",
        "4. Si C es menor o igual que A\n",
        "5. Si B NO es equivalente a C"
      ]
    },
    {
      "cell_type": "code",
      "execution_count": 6,
      "metadata": {
        "colab": {
          "base_uri": "https://localhost:8080/"
        },
        "id": "Z-utI8b82x7P",
        "outputId": "fbcfa757-e92d-4fb8-cd58-d2a7f2b5c87b"
      },
      "outputs": [
        {
          "name": "stdout",
          "output_type": "stream",
          "text": [
            "Son equivalentes False\n",
            "No son equivalentes True\n",
            "Es mayor False\n",
            "Es menor o igual False\n",
            "No son equivalentes True\n"
          ]
        }
      ],
      "source": [
        "A = 4\n",
        "B = \"Text\"\n",
        "C = 4.1\n",
        "\n",
        "cond_1 = A == B\n",
        "print (\"Son equivalentes\", cond_1)\n",
        "\n",
        "cond_2 = A != C\n",
        "print (\"No son equivalentes\", cond_2)\n",
        "\n",
        "cond_3 = A > C\n",
        "print (\"Es mayor\", cond_3)\n",
        "\n",
        "cond_4 = C <= A\n",
        "print (\"Es menor o igual\", cond_4)\n",
        "\n",
        "cond_5 = B != C\n",
        "print (\"No son equivalentes\", cond_5)"
      ]
    },
    {
      "cell_type": "markdown",
      "metadata": {
        "id": "hCV-_rQ22x7R"
      },
      "source": [
        "![ejercicio.png](./img/ejercicio.png)\n",
        "\n",
        "## Ejercicio 2\n",
        "Crea un programa donde se recojan dos inputs del usuario, y el output del programa sea si esos inputs son iguales o no"
      ]
    },
    {
      "cell_type": "code",
      "execution_count": 9,
      "metadata": {
        "colab": {
          "base_uri": "https://localhost:8080/"
        },
        "id": "NnusGAf22x7T",
        "outputId": "d5060041-fdb2-4808-aabf-846b024ebf48"
      },
      "outputs": [
        {
          "name": "stdout",
          "output_type": "stream",
          "text": [
            "Introduzca la contraseña 1e\n",
            "Introduzca la contraseña 2e\n",
            "Las contraseñas son iguales\n"
          ]
        }
      ],
      "source": [
        "#Configuracion para que usuario ingrese las contraseñas\n",
        "password1 = input(\"Introduzca la contraseña 1\").strip()\n",
        "password2 = input(\"Introduzca la contraseña 2\").strip()\n",
        "\n",
        "#Verifica si las contraseñas son iguales o no\n",
        "if password1 == password2:\n",
        "    print(\"Las contraseñas son iguales\")\n",
        "else:\n",
        "    print(\"Las contraseñas no son iguales\")"
      ]
    },
    {
      "cell_type": "markdown",
      "metadata": {
        "id": "9RaDdmCm2x7U"
      },
      "source": [
        "![ejercicio.png](./img/ejercicio.png)\n",
        "\n",
        "## Ejercicio 3\n",
        "Mismo programa que en 2, pero en esta ocasión tienen que ser tres inputs y dos salidas. Una de las salidas que nos indique si todos son iguales, y la otra si al menos dos inputs sí que lo son"
      ]
    },
    {
      "cell_type": "code",
      "execution_count": 17,
      "metadata": {
        "colab": {
          "base_uri": "https://localhost:8080/"
        },
        "id": "xDE7nPmQ2x7V",
        "outputId": "ba56aec1-6fa0-43ac-f921-64061f07c557"
      },
      "outputs": [
        {
          "name": "stdout",
          "output_type": "stream",
          "text": [
            "Ingrese el primer valor: 4\n",
            "Ingrese el segundo valor: 4\n",
            "Ingrese el tercer valor: 4\n",
            "Todos los valores son iguales\n"
          ]
        }
      ],
      "source": [
        "valor1 = input(\"Ingrese el primer valor: \")\n",
        "valor2 = input(\"Ingrese el segundo valor: \")\n",
        "valor3 = input(\"Ingrese el tercer valor: \")  # Se agregó la comilla que faltaba\n",
        "\n",
        "tres_iguales = (valor1 == valor2 == valor3)\n",
        "dos_iguales = (valor1 == valor2) or (valor1 == valor3) or (valor2 == valor3)\n",
        "\n",
        "if tres_iguales:\n",
        "    print(\"Todos los valores son iguales\")\n",
        "elif dos_iguales:\n",
        "    print(\"Al menos dos valores son iguales\")\n",
        "else:\n",
        "    print(\"Ningún valor es igual\")"
      ]
    },
    {
      "cell_type": "markdown",
      "metadata": {
        "id": "zuFg0D4H2x7V"
      },
      "source": [
        "![ejercicio.png](./img/ejercicio.png)\n",
        "\n",
        "## Ejercicio 4\n",
        "Razona sin ejecutar código el output que obtendremos de las siguientes sentencias\n",
        "1. True and True and False\n",
        "2. not ((True or False) and (True or False))\n",
        "3. (False or False or False or True) and False\n",
        "4. not False and True and not True"
      ]
    },
    {
      "cell_type": "markdown",
      "metadata": {
        "id": "rdpZk84uGObr"
      },
      "source": [
        "True and True and False → False\n",
        "\n",
        "not ((True or False) and (True or False)) → False\n",
        "\n",
        "(False or False or False or True) and False → False\n",
        "\n",
        "not False and True and not True → False"
      ]
    }
  ],
  "metadata": {
    "colab": {
      "provenance": []
    },
    "kernelspec": {
      "display_name": "Curso_Online_DATA",
      "language": "python",
      "name": "python3"
    },
    "language_info": {
      "codemirror_mode": {
        "name": "ipython",
        "version": 3
      },
      "file_extension": ".py",
      "mimetype": "text/x-python",
      "name": "python",
      "nbconvert_exporter": "python",
      "pygments_lexer": "ipython3",
      "version": "3.11.5"
    },
    "orig_nbformat": 4
  },
  "nbformat": 4,
  "nbformat_minor": 0
}
